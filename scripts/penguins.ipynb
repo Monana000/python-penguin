{
 "cells": [
  {
   "cell_type": "code",
   "execution_count": null,
   "metadata": {},
   "outputs": [],
   "source": [
    "import pandas as pd\n",
    "from palmerpenguins import load_penguins\n"
   ]
  },
  {
   "cell_type": "code",
   "execution_count": null,
   "metadata": {},
   "outputs": [],
   "source": [
    "print(\"hahhhhasdiufhaliuuehfasuhfdlaisudfghlaisudgfhas\")\n",
    "import pandas as pd\n",
    "import seaborn as sns\n",
    "import matplotlib.pyplot as plt\n",
    "from palmerpenguins import load_penguins\n",
    "\n",
    "# Load the penguins data\n",
    "penguins = load_penguins()\n",
    "\n",
    "# Create the scatter plot, grouping by species\n",
    "sns.scatterplot(data=penguins, x='body_mass_g', y='flipper_length_mm', hue='species')\n",
    "\n",
    "# Show the plot\n",
    "plt.title('Penguin Body Mass vs Flipper Length by Species')\n",
    "plt.show()\n",
    "\n",
    "\n",
    "\n"
   ]
  },
  {
   "cell_type": "code",
   "execution_count": null,
   "metadata": {},
   "outputs": [],
   "source": []
  }
 ],
 "metadata": {
  "language_info": {
   "name": "python"
  }
 },
 "nbformat": 4,
 "nbformat_minor": 2
}
